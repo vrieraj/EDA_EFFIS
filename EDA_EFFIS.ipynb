{
 "cells": [
  {
   "cell_type": "code",
   "execution_count": 1,
   "metadata": {},
   "outputs": [],
   "source": [
    "import datetime as dt\n",
    "import geopandas as gpd\n",
    "import pandas as pd"
   ]
  },
  {
   "cell_type": "code",
   "execution_count": 2,
   "metadata": {},
   "outputs": [
    {
     "data": {
      "text/html": [
       "<div>\n",
       "<style scoped>\n",
       "    .dataframe tbody tr th:only-of-type {\n",
       "        vertical-align: middle;\n",
       "    }\n",
       "\n",
       "    .dataframe tbody tr th {\n",
       "        vertical-align: top;\n",
       "    }\n",
       "\n",
       "    .dataframe thead th {\n",
       "        text-align: right;\n",
       "    }\n",
       "</style>\n",
       "<table border=\"1\" class=\"dataframe\">\n",
       "  <thead>\n",
       "    <tr style=\"text-align: right;\">\n",
       "      <th></th>\n",
       "      <th>id</th>\n",
       "      <th>FIREDATE</th>\n",
       "      <th>LASTUPDATE</th>\n",
       "      <th>COUNTRY</th>\n",
       "      <th>PROVINCE</th>\n",
       "      <th>COMMUNE</th>\n",
       "      <th>AREA_HA</th>\n",
       "      <th>BROADLEA</th>\n",
       "      <th>CONIFER</th>\n",
       "      <th>MIXED</th>\n",
       "      <th>SCLEROPH</th>\n",
       "      <th>TRANSIT</th>\n",
       "      <th>OTHERNATLC</th>\n",
       "      <th>AGRIAREAS</th>\n",
       "      <th>ARTIFSURF</th>\n",
       "      <th>OTHERLC</th>\n",
       "      <th>PERCNA2K</th>\n",
       "      <th>CLASS</th>\n",
       "      <th>geometry</th>\n",
       "    </tr>\n",
       "  </thead>\n",
       "  <tbody>\n",
       "    <tr>\n",
       "      <th>0</th>\n",
       "      <td>264477</td>\n",
       "      <td>2000-09-20 00:00:00</td>\n",
       "      <td>2025-03-28 15:01:38.620495</td>\n",
       "      <td>EL</td>\n",
       "      <td>??????</td>\n",
       "      <td>???????? ????????? ?????</td>\n",
       "      <td>981</td>\n",
       "      <td>2.1472392638034616</td>\n",
       "      <td>0</td>\n",
       "      <td>0</td>\n",
       "      <td>5.4192229038849264</td>\n",
       "      <td>73.51738241308041</td>\n",
       "      <td>1.431492842535641</td>\n",
       "      <td>16.46216768915987</td>\n",
       "      <td>1.0224948875254578</td>\n",
       "      <td>0</td>\n",
       "      <td>32.02719647413729</td>\n",
       "      <td>FireSeason</td>\n",
       "      <td>POLYGON ((24.10056 38.66232, 24.10079 38.65254...</td>\n",
       "    </tr>\n",
       "    <tr>\n",
       "      <th>1</th>\n",
       "      <td>260352</td>\n",
       "      <td>2000-07-31 00:00:00</td>\n",
       "      <td>2000-12-31 12:10:11.414</td>\n",
       "      <td>IT</td>\n",
       "      <td>Crotone</td>\n",
       "      <td>Roccabernarda</td>\n",
       "      <td>56</td>\n",
       "      <td>0</td>\n",
       "      <td>0</td>\n",
       "      <td>0</td>\n",
       "      <td>0</td>\n",
       "      <td>0</td>\n",
       "      <td>58.49056603762549</td>\n",
       "      <td>41.50943396218583</td>\n",
       "      <td>0</td>\n",
       "      <td>0</td>\n",
       "      <td>99.99999999999997</td>\n",
       "      <td>FireSeason</td>\n",
       "      <td>POLYGON ((16.84555 39.15941, 16.84656 39.15743...</td>\n",
       "    </tr>\n",
       "    <tr>\n",
       "      <th>2</th>\n",
       "      <td>260396</td>\n",
       "      <td>2000-08-25 00:00:00</td>\n",
       "      <td>2000-12-31 12:10:11.414</td>\n",
       "      <td>IT</td>\n",
       "      <td>Crotone</td>\n",
       "      <td>Pallagorio</td>\n",
       "      <td>413</td>\n",
       "      <td>61.36919315401923</td>\n",
       "      <td>0</td>\n",
       "      <td>0</td>\n",
       "      <td>0</td>\n",
       "      <td>0</td>\n",
       "      <td>0</td>\n",
       "      <td>38.63080684595633</td>\n",
       "      <td>0</td>\n",
       "      <td>0</td>\n",
       "      <td>98.7552636258531</td>\n",
       "      <td>FireSeason</td>\n",
       "      <td>POLYGON ((16.89034 39.33069, 16.89195 39.32436...</td>\n",
       "    </tr>\n",
       "    <tr>\n",
       "      <th>3</th>\n",
       "      <td>260398</td>\n",
       "      <td>2000-07-15 00:00:00</td>\n",
       "      <td>2000-12-31 12:10:11.414</td>\n",
       "      <td>IT</td>\n",
       "      <td>Cosenza</td>\n",
       "      <td>Corigliano-Rossano</td>\n",
       "      <td>88</td>\n",
       "      <td>43.678160919490026</td>\n",
       "      <td>0</td>\n",
       "      <td>0</td>\n",
       "      <td>0</td>\n",
       "      <td>0</td>\n",
       "      <td>0</td>\n",
       "      <td>56.32183908039503</td>\n",
       "      <td>0</td>\n",
       "      <td>0</td>\n",
       "      <td>0</td>\n",
       "      <td>FireSeason</td>\n",
       "      <td>POLYGON ((16.70885 39.57951, 16.71165 39.57865...</td>\n",
       "    </tr>\n",
       "    <tr>\n",
       "      <th>4</th>\n",
       "      <td>259734</td>\n",
       "      <td>2000-09-02 00:00:00</td>\n",
       "      <td>2000-12-31 12:10:11.414</td>\n",
       "      <td>PT</td>\n",
       "      <td>Beiras e Serra da Estrela</td>\n",
       "      <td>Alvendre</td>\n",
       "      <td>54</td>\n",
       "      <td>0</td>\n",
       "      <td>0</td>\n",
       "      <td>0</td>\n",
       "      <td>0</td>\n",
       "      <td>21.81818181814215</td>\n",
       "      <td>45.45454545446281</td>\n",
       "      <td>32.727272727213226</td>\n",
       "      <td>0</td>\n",
       "      <td>0</td>\n",
       "      <td>0</td>\n",
       "      <td>FireSeason</td>\n",
       "      <td>POLYGON ((-7.2476 40.59114, -7.24515 40.59178,...</td>\n",
       "    </tr>\n",
       "  </tbody>\n",
       "</table>\n",
       "</div>"
      ],
      "text/plain": [
       "       id             FIREDATE                  LASTUPDATE COUNTRY  \\\n",
       "0  264477  2000-09-20 00:00:00  2025-03-28 15:01:38.620495      EL   \n",
       "1  260352  2000-07-31 00:00:00     2000-12-31 12:10:11.414      IT   \n",
       "2  260396  2000-08-25 00:00:00     2000-12-31 12:10:11.414      IT   \n",
       "3  260398  2000-07-15 00:00:00     2000-12-31 12:10:11.414      IT   \n",
       "4  259734  2000-09-02 00:00:00     2000-12-31 12:10:11.414      PT   \n",
       "\n",
       "                    PROVINCE                   COMMUNE AREA_HA  \\\n",
       "0                     ??????  ???????? ????????? ?????     981   \n",
       "1                    Crotone             Roccabernarda      56   \n",
       "2                    Crotone                Pallagorio     413   \n",
       "3                    Cosenza        Corigliano-Rossano      88   \n",
       "4  Beiras e Serra da Estrela                  Alvendre      54   \n",
       "\n",
       "             BROADLEA CONIFER MIXED            SCLEROPH            TRANSIT  \\\n",
       "0  2.1472392638034616       0     0  5.4192229038849264  73.51738241308041   \n",
       "1                   0       0     0                   0                  0   \n",
       "2   61.36919315401923       0     0                   0                  0   \n",
       "3  43.678160919490026       0     0                   0                  0   \n",
       "4                   0       0     0                   0  21.81818181814215   \n",
       "\n",
       "          OTHERNATLC           AGRIAREAS           ARTIFSURF OTHERLC  \\\n",
       "0  1.431492842535641   16.46216768915987  1.0224948875254578       0   \n",
       "1  58.49056603762549   41.50943396218583                   0       0   \n",
       "2                  0   38.63080684595633                   0       0   \n",
       "3                  0   56.32183908039503                   0       0   \n",
       "4  45.45454545446281  32.727272727213226                   0       0   \n",
       "\n",
       "            PERCNA2K       CLASS  \\\n",
       "0  32.02719647413729  FireSeason   \n",
       "1  99.99999999999997  FireSeason   \n",
       "2   98.7552636258531  FireSeason   \n",
       "3                  0  FireSeason   \n",
       "4                  0  FireSeason   \n",
       "\n",
       "                                            geometry  \n",
       "0  POLYGON ((24.10056 38.66232, 24.10079 38.65254...  \n",
       "1  POLYGON ((16.84555 39.15941, 16.84656 39.15743...  \n",
       "2  POLYGON ((16.89034 39.33069, 16.89195 39.32436...  \n",
       "3  POLYGON ((16.70885 39.57951, 16.71165 39.57865...  \n",
       "4  POLYGON ((-7.2476 40.59114, -7.24515 40.59178,...  "
      ]
     },
     "execution_count": 2,
     "metadata": {},
     "output_type": "execute_result"
    }
   ],
   "source": [
    "effis = gpd.read_file('./effis_layer/modis.ba.poly.shp')\n",
    "effis.head()"
   ]
  },
  {
   "cell_type": "code",
   "execution_count": 3,
   "metadata": {},
   "outputs": [
    {
     "name": "stdout",
     "output_type": "stream",
     "text": [
      "<class 'geopandas.geodataframe.GeoDataFrame'>\n",
      "RangeIndex: 92772 entries, 0 to 92771\n",
      "Data columns (total 19 columns):\n",
      " #   Column      Non-Null Count  Dtype   \n",
      "---  ------      --------------  -----   \n",
      " 0   id          92772 non-null  object  \n",
      " 1   FIREDATE    92772 non-null  object  \n",
      " 2   LASTUPDATE  92772 non-null  object  \n",
      " 3   COUNTRY     92764 non-null  object  \n",
      " 4   PROVINCE    92772 non-null  object  \n",
      " 5   COMMUNE     92772 non-null  object  \n",
      " 6   AREA_HA     92772 non-null  object  \n",
      " 7   BROADLEA    92121 non-null  object  \n",
      " 8   CONIFER     92121 non-null  object  \n",
      " 9   MIXED       92121 non-null  object  \n",
      " 10  SCLEROPH    92121 non-null  object  \n",
      " 11  TRANSIT     92121 non-null  object  \n",
      " 12  OTHERNATLC  92121 non-null  object  \n",
      " 13  AGRIAREAS   92121 non-null  object  \n",
      " 14  ARTIFSURF   92121 non-null  object  \n",
      " 15  OTHERLC     92121 non-null  object  \n",
      " 16  PERCNA2K    92772 non-null  object  \n",
      " 17  CLASS       92772 non-null  object  \n",
      " 18  geometry    92772 non-null  geometry\n",
      "dtypes: geometry(1), object(18)\n",
      "memory usage: 13.4+ MB\n"
     ]
    }
   ],
   "source": [
    "effis.info()"
   ]
  },
  {
   "cell_type": "code",
   "execution_count": null,
   "metadata": {},
   "outputs": [],
   "source": [
    "# Pasamos las columnas de inicio de incendio y última actualización a datetime \n",
    "effis.FIREDATE = pd.to_datetime(effis.FIREDATE, format='ISO8601')\n",
    "effis.LASTUPDATE = pd.to_datetime(effis.LASTUPDATE, format='ISO8601')\n",
    "\n",
    "# Eliminamos los incendios de 2025\n",
    "effis = effis[effis.FIREDATE.dt.year < 2025]\n",
    "\n",
    "# Calculamos la duración del incendio\n",
    "effis['DURATION'] = effis.LASTUPDATE - effis.FIREDATE"
   ]
  },
  {
   "cell_type": "code",
   "execution_count": null,
   "metadata": {},
   "outputs": [
    {
     "data": {
      "text/plain": [
       "0       8955 days 15:01:38.620495\n",
       "642      365 days 12:10:11.414000\n",
       "3552    8296 days 07:46:58.392040\n",
       "3553    8271 days 07:33:39.400606\n",
       "3554    8390 days 08:57:56.515000\n",
       "                   ...           \n",
       "66530    481 days 02:29:58.757827\n",
       "66666    377 days 01:50:57.102011\n",
       "66919    479 days 02:24:13.125659\n",
       "66945    371 days 06:40:49.561707\n",
       "67573    368 days 02:17:04.589618\n",
       "Name: DURATION, Length: 29392, dtype: timedelta64[ns]"
      ]
     },
     "execution_count": 21,
     "metadata": {},
     "output_type": "execute_result"
    }
   ],
   "source": [
    "# ¿Qué es LASTUPDATE realmente?\n",
    "effis[effis.DURATION > dt.timedelta(365)].DURATION"
   ]
  },
  {
   "cell_type": "code",
   "execution_count": 23,
   "metadata": {},
   "outputs": [
    {
     "data": {
      "text/plain": [
       "FIREDATE\n",
       "2024    89\n",
       "2020    35\n",
       "2012     6\n",
       "Name: count, dtype: int64"
      ]
     },
     "execution_count": 23,
     "metadata": {},
     "output_type": "execute_result"
    }
   ],
   "source": [
    "# Incendios en días bisiestos\n",
    "effis.loc[(effis.FIREDATE.dt.day == 29) & (effis.FIREDATE.dt.month == 2),'FIREDATE'].dt.year.value_counts()"
   ]
  },
  {
   "cell_type": "code",
   "execution_count": 26,
   "metadata": {},
   "outputs": [],
   "source": [
    "effis['DAY_YEAR'] = effis.FIREDATE.dt.strftime('%j')"
   ]
  },
  {
   "cell_type": "code",
   "execution_count": 24,
   "metadata": {},
   "outputs": [
    {
     "name": "stderr",
     "output_type": "stream",
     "text": [
      "/tmp/ipykernel_57021/2172088228.py:2: UserWarning: Geometry is in a geographic CRS. Results from 'centroid' are likely incorrect. Use 'GeoSeries.to_crs()' to re-project geometries to a projected CRS before this operation.\n",
      "\n",
      "  effis['CENTROID'] = effis.geometry.centroid.to_crs('WGS 84')\n"
     ]
    }
   ],
   "source": [
    "# Calculamos centroides y extraemos coordenadas\n",
    "effis['CENTROID'] = effis.geometry.centroid.to_crs('WGS 84')\n",
    "effis['LAT'], effis['LON'] = effis.CENTROID.y, effis.CENTROID.x"
   ]
  }
 ],
 "metadata": {
  "kernelspec": {
   "display_name": "Python 3",
   "language": "python",
   "name": "python3"
  },
  "language_info": {
   "codemirror_mode": {
    "name": "ipython",
    "version": 3
   },
   "file_extension": ".py",
   "mimetype": "text/x-python",
   "name": "python",
   "nbconvert_exporter": "python",
   "pygments_lexer": "ipython3",
   "version": "3.13.2"
  }
 },
 "nbformat": 4,
 "nbformat_minor": 2
}
